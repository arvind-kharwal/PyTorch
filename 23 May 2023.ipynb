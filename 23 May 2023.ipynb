{
 "cells": [
  {
   "cell_type": "code",
   "execution_count": 1,
   "id": "fca5e206",
   "metadata": {},
   "outputs": [],
   "source": [
    "import torch"
   ]
  },
  {
   "cell_type": "code",
   "execution_count": 2,
   "id": "a2a80db2",
   "metadata": {},
   "outputs": [
    {
     "name": "stdout",
     "output_type": "stream",
     "text": [
      "tensor([[0.4313, 0.9624, 0.4115],\n",
      "        [0.0076, 0.9315, 0.3939],\n",
      "        [0.1369, 0.6708, 0.0348],\n",
      "        [0.8618, 0.9628, 0.8323],\n",
      "        [0.7941, 0.3873, 0.3149]])\n"
     ]
    }
   ],
   "source": [
    "x = torch.rand(5, 3)\n",
    "print(x)"
   ]
  },
  {
   "cell_type": "code",
   "execution_count": 3,
   "id": "08ca7a94",
   "metadata": {},
   "outputs": [
    {
     "name": "stdout",
     "output_type": "stream",
     "text": [
      "Package              Version\n",
      "-------------------- ------------\n",
      "anyio                3.6.2\n",
      "argon2-cffi          21.3.0\n",
      "argon2-cffi-bindings 21.2.0\n",
      "astroid              2.11.2\n",
      "asttokens            2.0.5\n",
      "attrs                22.1.0\n",
      "Babel                2.10.3\n",
      "backcall             0.2.0\n",
      "beautifulsoup4       4.11.1\n",
      "bleach               5.0.1\n",
      "certifi              2021.10.8\n",
      "cffi                 1.15.0\n",
      "charset-normalizer   2.0.12\n",
      "colorama             0.4.4\n",
      "debugpy              1.6.2\n",
      "decorator            5.1.1\n",
      "defusedxml           0.7.1\n",
      "dill                 0.3.4\n",
      "entrypoints          0.4\n",
      "executing            0.8.3\n",
      "fastjsonschema       2.16.2\n",
      "filelock             3.9.0\n",
      "gevent               21.12.0\n",
      "greenlet             1.1.2\n",
      "idna                 3.3\n",
      "ipykernel            6.15.1\n",
      "ipython              8.4.0\n",
      "ipython-genutils     0.2.0\n",
      "isort                5.10.1\n",
      "jedi                 0.18.1\n",
      "Jinja2               3.1.2\n",
      "json5                0.9.10\n",
      "jsonschema           4.16.0\n",
      "jupyter-client       7.3.4\n",
      "jupyter-core         4.11.1\n",
      "jupyter-server       1.21.0\n",
      "jupyterlab           3.4.8\n",
      "jupyterlab-pygments  0.2.2\n",
      "jupyterlab_server    2.16.0\n",
      "lazy-object-proxy    1.7.1\n",
      "MarkupSafe           2.1.1\n",
      "matplotlib-inline    0.1.3\n",
      "mccabe               0.7.0\n",
      "metakernel           0.29.0\n",
      "mistune              2.0.4\n",
      "mpmath               1.2.1\n",
      "mysql-connector      2.2.9\n",
      "nbclassic            0.4.5\n",
      "nbclient             0.7.0\n",
      "nbconvert            7.2.1\n",
      "nbformat             5.7.0\n",
      "nest-asyncio         1.5.5\n",
      "networkx             3.0\n",
      "notebook             6.5.1\n",
      "notebook_shim        0.2.0\n",
      "numpy                1.23.4\n",
      "packaging            21.3\n",
      "pandas               1.5.2\n",
      "pandocfilters        1.5.0\n",
      "parso                0.8.3\n",
      "pexpect              4.8.0\n",
      "pickleshare          0.7.5\n",
      "Pillow               9.3.0\n",
      "pip                  23.1.2\n",
      "platformdirs         2.5.1\n",
      "prometheus-client    0.15.0\n",
      "prompt-toolkit       3.0.30\n",
      "psutil               5.9.1\n",
      "ptyprocess           0.7.0\n",
      "pure-eval            0.2.2\n",
      "pycparser            2.21\n",
      "Pygments             2.12.0\n",
      "pylint               2.13.5\n",
      "pyparsing            3.0.9\n",
      "pyrsistent           0.18.1\n",
      "python-dateutil      2.8.2\n",
      "pytz                 2022.5\n",
      "pywin32              304\n",
      "pywinpty             2.0.8\n",
      "pyzmq                23.2.0\n",
      "requests             2.27.1\n",
      "scilab-kernel        0.9.10\n",
      "Send2Trash           1.8.0\n",
      "setuptools           58.1.0\n",
      "six                  1.16.0\n",
      "sniffio              1.3.0\n",
      "soupsieve            2.3.2.post1\n",
      "stack-data           0.3.0\n",
      "sympy                1.11.1\n",
      "terminado            0.16.0\n",
      "tinycss2             1.2.1\n",
      "tomli                2.0.1\n",
      "torch                2.0.1+cu117\n",
      "torchaudio           2.0.2+cu117\n",
      "torchvision          0.15.2+cu117\n",
      "tornado              6.2\n",
      "traitlets            5.3.0\n",
      "typing_extensions    4.4.0\n",
      "urllib3              1.26.9\n",
      "wcwidth              0.2.5\n",
      "webencodings         0.5.1\n",
      "websocket-client     1.4.1\n",
      "wrapt                1.14.0\n",
      "zope.event           4.5.0\n",
      "zope.interface       5.4.0\n"
     ]
    }
   ],
   "source": [
    "!pip list"
   ]
  }
 ],
 "metadata": {
  "kernelspec": {
   "display_name": "Python 3 (ipykernel)",
   "language": "python",
   "name": "python3"
  },
  "language_info": {
   "codemirror_mode": {
    "name": "ipython",
    "version": 3
   },
   "file_extension": ".py",
   "mimetype": "text/x-python",
   "name": "python",
   "nbconvert_exporter": "python",
   "pygments_lexer": "ipython3",
   "version": "3.10.4"
  }
 },
 "nbformat": 4,
 "nbformat_minor": 5
}
